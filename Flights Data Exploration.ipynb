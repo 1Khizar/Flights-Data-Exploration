{
 "cells": [
  {
   "cell_type": "markdown",
   "metadata": {},
   "source": [
    "# Source: [Microsoft Learn](https://learn.microsoft.com/en-us/training/modules/explore-analyze-data-with-python/?WT.mc_id=cloudskillschallenge_8aee1e58-eeb8-409f-b0d0-d15afcc8045c&source=docs&ns-enrollment-type=Collection&ns-enrollment-id=o1qrb5wedm52)."
   ]
  },
  {
   "cell_type": "code",
   "execution_count": null,
   "metadata": {},
   "outputs": [],
   "source": []
  },
  {
   "cell_type": "markdown",
   "metadata": {},
   "source": [
    "# Flights Data Exploration \n",
    "\n",
    "In this challenge, you'll explore a real-world dataset containing flights data from the US Department of Transportation.\n",
    "\n",
    "Let's start by loading and viewing the data."
   ]
  },
  {
   "cell_type": "markdown",
   "metadata": {},
   "source": []
  },
  {
   "cell_type": "markdown",
   "metadata": {},
   "source": [
    "The dataset contains observations of US domestic flights in 2013, and consists of the following fields:\n",
    "\n",
    "- **Year**: The year of the flight (all records are from 2013)\n",
    "- **Month**: The month of the flight\n",
    "- **DayofMonth**: The day of the month on which the flight departed\n",
    "- **DayOfWeek**: The day of the week on which the flight departed - from 1 (Monday) to 7 (Sunday)\n",
    "- **Carrier**: The two-letter abbreviation for the airline.\n",
    "- **OriginAirportID**: A unique numeric identifier for the departure aiport\n",
    "- **OriginAirportName**: The full name of the departure airport\n",
    "- **OriginCity**: The departure airport city\n",
    "- **OriginState**: The departure airport state\n",
    "- **DestAirportID**: A unique numeric identifier for the destination aiport\n",
    "- **DestAirportName**: The full name of the destination airport\n",
    "- **DestCity**: The destination airport city\n",
    "- **DestState**: The destination airport state\n",
    "- **CRSDepTime**: The scheduled departure time\n",
    "- **DepDelay**: The number of minutes departure was delayed (flight that left ahead of schedule have a negative value)\n",
    "- **DelDelay15**: A binary indicator that departure was delayed by more than 15 minutes (and therefore considered \"late\")\n",
    "- **CRSArrTime**: The scheduled arrival time\n",
    "- **ArrDelay**: The number of minutes arrival was delayed (flight that arrived ahead of schedule have a negative value)\n",
    "- **ArrDelay15**: A binary indicator that arrival was delayed by more than 15 minutes (and therefore considered \"late\")\n",
    "- **Cancelled**: A binary indicator that the flight was cancelled\n",
    "\n",
    "Your challenge is to explore the flight data to analyze possible factors that affect delays in departure or arrival of a flight.\n",
    "\n",
    "1. Start by cleaning the data.\n",
    "    - understand the data before cleaning up:\n",
    "        ***-> How many num of rows and columns in it, name Header of columns, type of every column***\n",
    "        ***-> Use graph or visualization to explain what the data is about***\n",
    "        ***-> Describe function implemented on every column of the data sepretly***\n",
    "    - Identify any null or missing data, and impute appropriate replacement values.\n",
    "        ***-> Identify null values in all datasets***\n",
    "        ***->  Difference between null values and missing data***\n",
    "        ***-> Give output of null values in form of two rows, DepDelay & ArrDelay only***\n",
    "    - Identify and eliminate any outliers in the **DepDelay** and **ArrDelay** columns.\n",
    "        ***-> What is outliers & why we remove outliers from data?***\n",
    "        ***-> What are the techniques that are used to identify outliers***\n",
    "        ***-> What are techniques that are used to eliminate outliers, Why we need to remove them in term of AI models.***\n",
    "\n",
    "2. Explore the cleaned data.\n",
    "    - View summary statistics for the numeric fields in the dataset.\n",
    "       ***-> Create 2 dataframes of statics data and categorical data from dataset***\n",
    "       ***-> Convert numerical data in a constant way.*** \n",
    "       ***-> Create function to take summary statistics of the columns & make graph of only DepDelay & ArrDelay summary data,***\n",
    "       ***-> Function take input as df[given_col], implement & print logic of summary and create a histogram of given colum summary stats***\n",
    "    \n",
    "\n",
    "    - Determine the distribution of the **DepDelay** and **ArrDelay** columns.\n",
    "    - Use statistics, aggregate functions, and visualizations to answer the following questions:\n",
    "        - *What are the average (mean) departure and arrival delays?*\n",
    "        -> 0.11706307132970664\n",
    "        - *How do the carriers compare in terms of arrival delay performance?*\n",
    "        ?\n",
    "        - *Is there a noticable difference in arrival delays for different days of the week?*\n",
    "        ?\n",
    "        - *Which departure airport has the highest average departure delay?*\n",
    "        -> chicago international \n",
    "        - *Do **late** departures tend to result in longer arrival delays than on-time departures?*\n",
    "        -> No answer\n",
    "        - *Which route (from origin airport to destination airport) has the most **late** arrivals?*\n",
    "        -> You give four, I need one of highest in a string form not tabular form\n",
    "        - *Which route has the highest average arrival delay?*\n",
    "        -> Pittsburgh International  Raleigh-Durham International    63.0\n",
    "        \n",
    "Add markdown and code cells as required to create your solution.\n",
    "\n",
    "> **Note**: \n",
    "What are the uses of graphs and which graph you use for which purpose. \n",
    "BOX PLOT, HISTORGRAM, SCATTER \n",
    "What are the difference between null values and empty values\n",
    "\n",
    "what is aggregate function and how we use it\n",
    "\n",
    "what's the diff of float and int64\n",
    "\n",
    "what is the datatype of categorical data\n",
    "OBJ\n",
    "\n",
    "How to gather insights from data. \n",
    "\n",
    "\n",
    "what is the use of descirbe function and it's sub function\n",
    "\n",
    "\n",
    "mean, std, mode, 25%, 75%\n",
    "\n",
    "Convert Year, Month & Day into Date&Time formate using pd.Dateandtime\n",
    "\n",
    "\n",
    "1. AggregateFunction implementation:\n",
    "- Best and worst days of the month by using DayOFMonth column\n",
    "- how many flights are Cancelled, Delayed and arrival delay of them\n",
    "- Which airport has most departure Delay and which has most arr delay\n",
    "\n",
    "2. Advanced agg funtion:\n",
    "*Use a custom lambda function in .agg()*\n",
    "**Problem:** *For each airline (Carrier), calculate the following metrics related to departure delays:*\n",
    "- delayed_flights – Total number of flights delayed by more than 15 minutes.\n",
    "- total_flights – Total number of flights operated by the airline.\n",
    "- delay_rate – Proportion of delayed flights (i.e., delay rate as a decimal value).\n",
    "\n",
    "3. Time Manipulation\n",
    "*Very very useful for real time data*\n",
    "**Statements to solve**\n",
    "- Create a TimeStampp column\n",
    "- Daily Cancellation date \n",
    "- Compare Delays on Weekend vs Normal day\n",
    "- Give a function in which you tell me about a specific Flight details that include: \n",
    "***Plane Origin Airport, Origin City, Origin State, Dest Airport's Name of that flight, Dest City, State, Wheter a delay occur in Dep & Arr or not, number of mintues each delay occur.  Time & Date of flight***\n"
   ]
  },
  {
   "cell_type": "code",
   "execution_count": 1,
   "metadata": {},
   "outputs": [],
   "source": [
    "# Importing the libraries\n",
    "import numpy as np\n",
    "import pandas as pd\n",
    "from matplotlib import pyplot as plt"
   ]
  },
  {
   "cell_type": "code",
   "execution_count": 2,
   "metadata": {},
   "outputs": [],
   "source": [
    "# Loading the dataset\n",
    "df = pd.read_csv(\"Data/flights.csv\")"
   ]
  },
  {
   "cell_type": "markdown",
   "metadata": {},
   "source": [
    "## Start by cleaning the data.\n",
    "\n",
    "**understand the data before cleaning up: -> How many num of rows and columns in it, name Header of columns, type of every column -> Use graph or visualization to explain what the data is about -> Describe function implemented on every column of the data sepretly**"
   ]
  },
  {
   "cell_type": "code",
   "execution_count": 3,
   "metadata": {},
   "outputs": [
    {
     "name": "stdout",
     "output_type": "stream",
     "text": [
      "The number of rows in the dataset are :  271940\n",
      "The number of columns in the dataset are :  20\n",
      "\n",
      "The columns in the dataset are ; Index(['Year', 'Month', 'DayofMonth', 'DayOfWeek', 'Carrier',\n",
      "       'OriginAirportID', 'OriginAirportName', 'OriginCity', 'OriginState',\n",
      "       'DestAirportID', 'DestAirportName', 'DestCity', 'DestState',\n",
      "       'CRSDepTime', 'DepDelay', 'DepDel15', 'CRSArrTime', 'ArrDelay',\n",
      "       'ArrDel15', 'Cancelled'],\n",
      "      dtype='object')\n",
      "\n",
      " The datatype of the columns in the dataset :\n",
      " Year                   int64\n",
      "Month                  int64\n",
      "DayofMonth             int64\n",
      "DayOfWeek              int64\n",
      "Carrier               object\n",
      "OriginAirportID        int64\n",
      "OriginAirportName     object\n",
      "OriginCity            object\n",
      "OriginState           object\n",
      "DestAirportID          int64\n",
      "DestAirportName       object\n",
      "DestCity              object\n",
      "DestState             object\n",
      "CRSDepTime             int64\n",
      "DepDelay               int64\n",
      "DepDel15             float64\n",
      "CRSArrTime             int64\n",
      "ArrDelay               int64\n",
      "ArrDel15               int64\n",
      "Cancelled              int64\n",
      "dtype: object\n"
     ]
    },
    {
     "data": {
      "text/html": [
       "<div>\n",
       "<style scoped>\n",
       "    .dataframe tbody tr th:only-of-type {\n",
       "        vertical-align: middle;\n",
       "    }\n",
       "\n",
       "    .dataframe tbody tr th {\n",
       "        vertical-align: top;\n",
       "    }\n",
       "\n",
       "    .dataframe thead th {\n",
       "        text-align: right;\n",
       "    }\n",
       "</style>\n",
       "<table border=\"1\" class=\"dataframe\">\n",
       "  <thead>\n",
       "    <tr style=\"text-align: right;\">\n",
       "      <th></th>\n",
       "      <th>Year</th>\n",
       "      <th>Month</th>\n",
       "      <th>DayofMonth</th>\n",
       "      <th>DayOfWeek</th>\n",
       "      <th>OriginAirportID</th>\n",
       "      <th>DestAirportID</th>\n",
       "      <th>CRSDepTime</th>\n",
       "      <th>DepDelay</th>\n",
       "      <th>DepDel15</th>\n",
       "      <th>CRSArrTime</th>\n",
       "      <th>ArrDelay</th>\n",
       "      <th>ArrDel15</th>\n",
       "      <th>Cancelled</th>\n",
       "    </tr>\n",
       "  </thead>\n",
       "  <tbody>\n",
       "    <tr>\n",
       "      <th>count</th>\n",
       "      <td>271940.0</td>\n",
       "      <td>271940.000000</td>\n",
       "      <td>271940.000000</td>\n",
       "      <td>271940.000000</td>\n",
       "      <td>271940.000000</td>\n",
       "      <td>271940.000000</td>\n",
       "      <td>271940.000000</td>\n",
       "      <td>271940.000000</td>\n",
       "      <td>269179.000000</td>\n",
       "      <td>271940.000000</td>\n",
       "      <td>271940.000000</td>\n",
       "      <td>271940.000000</td>\n",
       "      <td>271940.000000</td>\n",
       "    </tr>\n",
       "    <tr>\n",
       "      <th>mean</th>\n",
       "      <td>2013.0</td>\n",
       "      <td>6.978514</td>\n",
       "      <td>15.814775</td>\n",
       "      <td>3.899316</td>\n",
       "      <td>12744.899584</td>\n",
       "      <td>12739.136493</td>\n",
       "      <td>1325.498713</td>\n",
       "      <td>10.350449</td>\n",
       "      <td>0.201134</td>\n",
       "      <td>1505.477819</td>\n",
       "      <td>6.496650</td>\n",
       "      <td>0.215930</td>\n",
       "      <td>0.010723</td>\n",
       "    </tr>\n",
       "    <tr>\n",
       "      <th>std</th>\n",
       "      <td>0.0</td>\n",
       "      <td>1.982431</td>\n",
       "      <td>8.799033</td>\n",
       "      <td>1.987219</td>\n",
       "      <td>1501.199773</td>\n",
       "      <td>1502.569949</td>\n",
       "      <td>470.748546</td>\n",
       "      <td>35.673710</td>\n",
       "      <td>0.400849</td>\n",
       "      <td>493.204020</td>\n",
       "      <td>38.230331</td>\n",
       "      <td>0.411467</td>\n",
       "      <td>0.102995</td>\n",
       "    </tr>\n",
       "    <tr>\n",
       "      <th>min</th>\n",
       "      <td>2013.0</td>\n",
       "      <td>4.000000</td>\n",
       "      <td>1.000000</td>\n",
       "      <td>1.000000</td>\n",
       "      <td>10140.000000</td>\n",
       "      <td>10140.000000</td>\n",
       "      <td>1.000000</td>\n",
       "      <td>-63.000000</td>\n",
       "      <td>0.000000</td>\n",
       "      <td>1.000000</td>\n",
       "      <td>-75.000000</td>\n",
       "      <td>0.000000</td>\n",
       "      <td>0.000000</td>\n",
       "    </tr>\n",
       "    <tr>\n",
       "      <th>25%</th>\n",
       "      <td>2013.0</td>\n",
       "      <td>5.000000</td>\n",
       "      <td>8.000000</td>\n",
       "      <td>2.000000</td>\n",
       "      <td>11292.000000</td>\n",
       "      <td>11292.000000</td>\n",
       "      <td>920.000000</td>\n",
       "      <td>-4.000000</td>\n",
       "      <td>0.000000</td>\n",
       "      <td>1119.000000</td>\n",
       "      <td>-11.000000</td>\n",
       "      <td>0.000000</td>\n",
       "      <td>0.000000</td>\n",
       "    </tr>\n",
       "    <tr>\n",
       "      <th>50%</th>\n",
       "      <td>2013.0</td>\n",
       "      <td>7.000000</td>\n",
       "      <td>16.000000</td>\n",
       "      <td>4.000000</td>\n",
       "      <td>12892.000000</td>\n",
       "      <td>12892.000000</td>\n",
       "      <td>1320.000000</td>\n",
       "      <td>-1.000000</td>\n",
       "      <td>0.000000</td>\n",
       "      <td>1529.000000</td>\n",
       "      <td>-3.000000</td>\n",
       "      <td>0.000000</td>\n",
       "      <td>0.000000</td>\n",
       "    </tr>\n",
       "    <tr>\n",
       "      <th>75%</th>\n",
       "      <td>2013.0</td>\n",
       "      <td>9.000000</td>\n",
       "      <td>23.000000</td>\n",
       "      <td>6.000000</td>\n",
       "      <td>14057.000000</td>\n",
       "      <td>14057.000000</td>\n",
       "      <td>1725.000000</td>\n",
       "      <td>9.000000</td>\n",
       "      <td>0.000000</td>\n",
       "      <td>1918.000000</td>\n",
       "      <td>10.000000</td>\n",
       "      <td>0.000000</td>\n",
       "      <td>0.000000</td>\n",
       "    </tr>\n",
       "    <tr>\n",
       "      <th>max</th>\n",
       "      <td>2013.0</td>\n",
       "      <td>10.000000</td>\n",
       "      <td>31.000000</td>\n",
       "      <td>7.000000</td>\n",
       "      <td>15376.000000</td>\n",
       "      <td>15376.000000</td>\n",
       "      <td>2359.000000</td>\n",
       "      <td>1425.000000</td>\n",
       "      <td>1.000000</td>\n",
       "      <td>2359.000000</td>\n",
       "      <td>1440.000000</td>\n",
       "      <td>1.000000</td>\n",
       "      <td>1.000000</td>\n",
       "    </tr>\n",
       "  </tbody>\n",
       "</table>\n",
       "</div>"
      ],
      "text/plain": [
       "           Year          Month     DayofMonth      DayOfWeek  OriginAirportID  \\\n",
       "count  271940.0  271940.000000  271940.000000  271940.000000    271940.000000   \n",
       "mean     2013.0       6.978514      15.814775       3.899316     12744.899584   \n",
       "std         0.0       1.982431       8.799033       1.987219      1501.199773   \n",
       "min      2013.0       4.000000       1.000000       1.000000     10140.000000   \n",
       "25%      2013.0       5.000000       8.000000       2.000000     11292.000000   \n",
       "50%      2013.0       7.000000      16.000000       4.000000     12892.000000   \n",
       "75%      2013.0       9.000000      23.000000       6.000000     14057.000000   \n",
       "max      2013.0      10.000000      31.000000       7.000000     15376.000000   \n",
       "\n",
       "       DestAirportID     CRSDepTime       DepDelay       DepDel15  \\\n",
       "count  271940.000000  271940.000000  271940.000000  269179.000000   \n",
       "mean    12739.136493    1325.498713      10.350449       0.201134   \n",
       "std      1502.569949     470.748546      35.673710       0.400849   \n",
       "min     10140.000000       1.000000     -63.000000       0.000000   \n",
       "25%     11292.000000     920.000000      -4.000000       0.000000   \n",
       "50%     12892.000000    1320.000000      -1.000000       0.000000   \n",
       "75%     14057.000000    1725.000000       9.000000       0.000000   \n",
       "max     15376.000000    2359.000000    1425.000000       1.000000   \n",
       "\n",
       "          CRSArrTime       ArrDelay       ArrDel15      Cancelled  \n",
       "count  271940.000000  271940.000000  271940.000000  271940.000000  \n",
       "mean     1505.477819       6.496650       0.215930       0.010723  \n",
       "std       493.204020      38.230331       0.411467       0.102995  \n",
       "min         1.000000     -75.000000       0.000000       0.000000  \n",
       "25%      1119.000000     -11.000000       0.000000       0.000000  \n",
       "50%      1529.000000      -3.000000       0.000000       0.000000  \n",
       "75%      1918.000000      10.000000       0.000000       0.000000  \n",
       "max      2359.000000    1440.000000       1.000000       1.000000  "
      ]
     },
     "execution_count": 3,
     "metadata": {},
     "output_type": "execute_result"
    }
   ],
   "source": [
    "print(\"The number of rows in the dataset are : \", df.shape[0])\n",
    "print(\"The number of columns in the dataset are : \", df.shape[1])\n",
    "\n",
    "# Name of the Columns in the datset\n",
    "print(\"\\nThe columns in the dataset are ;\", df.columns)\n",
    "print(\"\\n The datatype of the columns in the dataset :\\n\", df.dtypes)\n",
    "\n",
    "df.describe()"
   ]
  },
  {
   "cell_type": "markdown",
   "metadata": {},
   "source": [
    "**Identify any null or missing data, and impute appropriate replacement values. -> Identify null values in all datasets -> Difference between null values and missing data -> Give output of null values in form of two rows, DepDelay & ArrDelay only**"
   ]
  },
  {
   "cell_type": "code",
   "execution_count": 25,
   "metadata": {},
   "outputs": [
    {
     "name": "stdout",
     "output_type": "stream",
     "text": [
      "Year                 0\n",
      "Month                0\n",
      "DayofMonth           0\n",
      "DayOfWeek            0\n",
      "Carrier              0\n",
      "OriginAirportID      0\n",
      "OriginAirportName    0\n",
      "OriginCity           0\n",
      "OriginState          0\n",
      "DestAirportID        0\n",
      "DestAirportName      0\n",
      "DestCity             0\n",
      "DestState            0\n",
      "CRSDepTime           0\n",
      "DepDelay             0\n",
      "DepDel15             0\n",
      "CRSArrTime           0\n",
      "ArrDelay             0\n",
      "ArrDel15             0\n",
      "Cancelled            0\n",
      "DepStatus            0\n",
      "ArrStatus            0\n",
      "Date                 0\n",
      "Weekends             0\n",
      "Normaldays           0\n",
      "dtype: int64\n",
      "\n",
      "Null values in DepDelay column:  0\n",
      "\n",
      "Null values in ArrDelay column:  0\n"
     ]
    },
    {
     "name": "stderr",
     "output_type": "stream",
     "text": [
      "C:\\Users\\DELL\\AppData\\Local\\Temp\\ipykernel_14568\\1545470928.py:10: FutureWarning: A value is trying to be set on a copy of a DataFrame or Series through chained assignment using an inplace method.\n",
      "The behavior will change in pandas 3.0. This inplace method will never work because the intermediate object on which we are setting values always behaves as a copy.\n",
      "\n",
      "For example, when doing 'df[col].method(value, inplace=True)', try using 'df.method({col: value}, inplace=True)' or df[col] = df[col].method(value) instead, to perform the operation inplace on the original object.\n",
      "\n",
      "\n",
      "  df[\"DepDel15\"].fillna(df[\"DepDel15\"].mean(), inplace=True)\n"
     ]
    }
   ],
   "source": [
    "# Identify any null or missing data in dataset\n",
    "print(df.isnull().sum())\n",
    "\n",
    "# Null va;ues in DepDelay\n",
    "print(\"\\nNull values in DepDelay column: \",df.DepDelay.isnull().sum())\n",
    "\n",
    "# Null va;ues in ArrpDelay\n",
    "print(\"\\nNull values in ArrDelay column: \",df.ArrDelay.isnull().sum())\n",
    "\n",
    "df[\"DepDel15\"].fillna(df[\"DepDel15\"].mean(), inplace=True)\n",
    "\n"
   ]
  },
  {
   "cell_type": "code",
   "execution_count": 5,
   "metadata": {},
   "outputs": [
    {
     "data": {
      "text/plain": [
       "Year                 0\n",
       "Month                0\n",
       "DayofMonth           0\n",
       "DayOfWeek            0\n",
       "Carrier              0\n",
       "OriginAirportID      0\n",
       "OriginAirportName    0\n",
       "OriginCity           0\n",
       "OriginState          0\n",
       "DestAirportID        0\n",
       "DestAirportName      0\n",
       "DestCity             0\n",
       "DestState            0\n",
       "CRSDepTime           0\n",
       "DepDelay             0\n",
       "DepDel15             0\n",
       "CRSArrTime           0\n",
       "ArrDelay             0\n",
       "ArrDel15             0\n",
       "Cancelled            0\n",
       "dtype: int64"
      ]
     },
     "execution_count": 5,
     "metadata": {},
     "output_type": "execute_result"
    }
   ],
   "source": [
    "df.isnull().sum()"
   ]
  },
  {
   "cell_type": "markdown",
   "metadata": {},
   "source": [
    "**Identify and eliminate any outliers in the DepDelay and ArrDelay columns. -> What is outliers & why we remove outliers from data? -> What are the techniques that are used to identify outliers -> What are techniques that are used to eliminate outliers, Why we need to remove them in term of AI models**\n",
    "\n",
    "## Outliers : \n",
    "           **Data points that deviate from the typical values being much higher or much lower than the rest of the data**\n",
    "           **We remove the outliers to improve the accuracy of data analysis**\n",
    "           \n",
    "    What are the techniques that are used to identify outliers\n",
    "        Z-score \n",
    "        Interquantile\n"
   ]
  },
  {
   "cell_type": "code",
   "execution_count": 6,
   "metadata": {},
   "outputs": [],
   "source": [
    "# DepDelay\n",
    "# Upper limit\n",
    "upper_limit = df[\"DepDelay\"].mean() + 3*df[\"DepDelay\"].std()\n",
    "\n",
    "# Lower limit\n",
    "lower_limit = df[\"DepDelay\"].mean() - 3*df[\"DepDelay\"].std()"
   ]
  },
  {
   "cell_type": "code",
   "execution_count": 7,
   "metadata": {},
   "outputs": [],
   "source": [
    "# Trmmimg the data of DepDelay column \n",
    "df = df.loc[(df[\"DepDelay\"] > lower_limit) & (df[\"DepDelay\"] < upper_limit)]"
   ]
  },
  {
   "cell_type": "code",
   "execution_count": 8,
   "metadata": {},
   "outputs": [
    {
     "data": {
      "text/plain": [
       "Text(0.5, 1.0, 'Whisker plot of DepDelay column after removing the outliers')"
      ]
     },
     "execution_count": 8,
     "metadata": {},
     "output_type": "execute_result"
    },
    {
     "data": {
      "image/png": "[encoded data removed]",
      "text/plain": [
       "<Figure size 640x480 with 1 Axes>"
      ]
     },
     "metadata": {},
     "output_type": "display_data"
    }
   ],
   "source": [
    "var = df[\"DepDelay\"]\n",
    "# Whisker plot of DepDelay column after removing the outliers\n",
    "plt.boxplot(var, vert=False)\n",
    "plt.title(\"Whisker plot of DepDelay column after removing the outliers\")"
   ]
  },
  {
   "cell_type": "markdown",
   "metadata": {},
   "source": [
    "## Explore the cleaned data.\n",
    "\n",
    "View summary statistics for the numeric fields in the dataset. -> Create 2 dataframes of statics data and categorical data from dataset -> Convert numerical data in a constant way. -> Create function to take summary statistics of the columns & make graph of only DepDelay & ArrDelay summary data, -> Function take input as df[given_col], implement & print logic of summary and create a histogram of given colum summary stats\n",
    "\n",
    "Determine the distribution of the DepDelay and ArrDelay columns."
   ]
  },
  {
   "cell_type": "code",
   "execution_count": 9,
   "metadata": {},
   "outputs": [
    {
     "name": "stdout",
     "output_type": "stream",
     "text": [
      "\n",
      " Categorical data :\n",
      "         Carrier                         OriginAirportName     OriginCity  \\\n",
      "0           DL                       Tampa International          Tampa   \n",
      "1           WN                  Pittsburgh International     Pittsburgh   \n",
      "2           AS              Seattle/Tacoma International        Seattle   \n",
      "3           OO              Chicago O'Hare International        Chicago   \n",
      "4           DL                     Norfolk International        Norfolk   \n",
      "...        ...                                       ...            ...   \n",
      "271935      VX                     Orlando International        Orlando   \n",
      "271936      FL  Hartsfield-Jackson Atlanta International        Atlanta   \n",
      "271937      WN                           William P Hobby        Houston   \n",
      "271938      HA                           Kahului Airport        Kahului   \n",
      "271939      UA               San Francisco International  San Francisco   \n",
      "\n",
      "       OriginState                                    DestAirportName  \\\n",
      "0               FL                      John F. Kennedy International   \n",
      "1               PA                       Chicago Midway International   \n",
      "2               WA                  Ronald Reagan Washington National   \n",
      "3               IL                    Cleveland-Hopkins International   \n",
      "4               VA           Hartsfield-Jackson Atlanta International   \n",
      "...            ...                                                ...   \n",
      "271935          FL                          Los Angeles International   \n",
      "271936          GA            Fort Lauderdale-Hollywood International   \n",
      "271937          TX  Baltimore/Washington International Thurgood Ma...   \n",
      "271938          HI                             Honolulu International   \n",
      "271939          CA                         Philadelphia International   \n",
      "\n",
      "               DestCity DestState  \n",
      "0              New York        NY  \n",
      "1               Chicago        IL  \n",
      "2            Washington        DC  \n",
      "3             Cleveland        OH  \n",
      "4               Atlanta        GA  \n",
      "...                 ...       ...  \n",
      "271935      Los Angeles        CA  \n",
      "271936  Fort Lauderdale        FL  \n",
      "271937        Baltimore        MD  \n",
      "271938         Honolulu        HI  \n",
      "271939     Philadelphia        PA  \n",
      "\n",
      "[266033 rows x 7 columns]\n",
      "Numerical data / Statics data : \n",
      "         Year  Month  DayofMonth  DayOfWeek  OriginAirportID  DestAirportID  \\\n",
      "0       2013      9          16          1            15304          12478   \n",
      "1       2013      9          23          1            14122          13232   \n",
      "2       2013      9           7          6            14747          11278   \n",
      "3       2013      7          22          1            13930          11042   \n",
      "4       2013      5          16          4            13931          10397   \n",
      "...      ...    ...         ...        ...              ...            ...   \n",
      "271935  2013      9          20          5            13204          12892   \n",
      "271936  2013      4          19          5            10397          11697   \n",
      "271937  2013     10          26          6            12191          10821   \n",
      "271938  2013      5           7          2            13830          12173   \n",
      "271939  2013      6          11          2            14771          14100   \n",
      "\n",
      "        CRSDepTime  DepDelay  DepDel15  CRSArrTime  ArrDelay  ArrDel15  \\\n",
      "0             1539         4       0.0        1824        13         0   \n",
      "1              710         3       0.0         740        22         1   \n",
      "2              810        -3       0.0        1614        -7         0   \n",
      "3              804        35       1.0        1027        33         1   \n",
      "4              545        -1       0.0         728        -9         0   \n",
      "...            ...       ...       ...         ...       ...       ...   \n",
      "271935        1730         1       0.0        1945        18         1   \n",
      "271936        1020        24       1.0        1218        61         1   \n",
      "271937        1540        30       1.0        1935        15         1   \n",
      "271938         609        -5       0.0         641        -6         0   \n",
      "271939        1338        60       1.0        2200        40         1   \n",
      "\n",
      "        Cancelled  \n",
      "0               0  \n",
      "1               0  \n",
      "2               0  \n",
      "3               0  \n",
      "4               0  \n",
      "...           ...  \n",
      "271935          0  \n",
      "271936          0  \n",
      "271937          0  \n",
      "271938          0  \n",
      "271939          0  \n",
      "\n",
      "[266033 rows x 13 columns]\n"
     ]
    }
   ],
   "source": [
    "# Create 2 dataframes of statics data and categorical data from dataset \n",
    "\n",
    "# Categorical data\n",
    "df_categorical = df.select_dtypes(include = ['object'])\n",
    "print(\"\\n Categorical data :\\n \",df_categorical)\n",
    "\n",
    "# Statics data\n",
    "df_numerical = df.select_dtypes(include = [\"number\"])\n",
    "print(\"Numerical data / Statics data : \\n\", df_numerical)"
   ]
  },
  {
   "cell_type": "code",
   "execution_count": 10,
   "metadata": {},
   "outputs": [
    {
     "name": "stdout",
     "output_type": "stream",
     "text": [
      "count    266033.000000\n",
      "mean          6.443336\n",
      "std          20.523827\n",
      "min         -63.000000\n",
      "25%          -4.000000\n",
      "50%          -1.000000\n",
      "75%           8.000000\n",
      "max         117.000000\n",
      "Name: DepDelay, dtype: float64\n",
      "(array([2.00000e+00, 1.00000e+00, 8.41000e+03, 1.93497e+05, 3.39500e+04,\n",
      "       1.33690e+04, 7.00300e+03, 4.49100e+03, 3.03300e+03, 2.27700e+03]), array([-63., -45., -27.,  -9.,   9.,  27.,  45.,  63.,  81.,  99., 117.]), <BarContainer object of 10 artists>)\n",
      "Text(0.5, 1.0, 'DepDelay')\n"
     ]
    },
    {
     "data": {
      "image/png": "[encoded data removed]",
      "text/plain": [
       "<Figure size 640x480 with 1 Axes>"
      ]
     },
     "metadata": {},
     "output_type": "display_data"
    }
   ],
   "source": [
    " # Function take input as df[given_col], implement & print logic of summary and create a histogram of given colum summary stats\n",
    "def summary_of_column(column_name):\n",
    "    print(df[column_name].describe())\n",
    "    print(plt.hist(df[column_name]))\n",
    "    print(plt.title(column_name))\n",
    "    \n",
    "summary_of_column(\"DepDelay\")"
   ]
  },
  {
   "cell_type": "code",
   "execution_count": 26,
   "metadata": {},
   "outputs": [
    {
     "data": {
      "image/png": "[encoded data removed]",
      "text/plain": [
       "<Figure size 1200x500 with 2 Axes>"
      ]
     },
     "metadata": {},
     "output_type": "display_data"
    }
   ],
   "source": [
    "# Determine the distribution of the DepDelay and ArrDelay columns.\n",
    "# DepDelay column distribution\n",
    "plt.figure(figsize = (12, 5))\n",
    "plt.subplot(1, 2, 1)\n",
    "plt.hist(df[\"DepDelay\"], color=\"red\")\n",
    "plt.title(\"DepDelay\")\n",
    "\n",
    "plt.subplot(1, 2, 2)\n",
    "plt.hist(df[\"ArrDelay\"], color='green')\n",
    "plt.title(\"ArrDelay\")\n",
    "\n",
    "plt.tight_layout()\n",
    "plt.show()"
   ]
  },
  {
   "cell_type": "markdown",
   "metadata": {},
   "source": [
    "## Use statistics, aggregate functions, and visualizations to answer the following questions:\n",
    "\n",
    "**What are the average (mean) departure and arrival delays?**"
   ]
  },
  {
   "cell_type": "code",
   "execution_count": 12,
   "metadata": {},
   "outputs": [
    {
     "name": "stdout",
     "output_type": "stream",
     "text": [
      "Average mean of departure delay is :  6.443335977115621\n",
      "Average mean of arrival delay is :  2.554277100961159\n"
     ]
    }
   ],
   "source": [
    "# The average (mean) departure delay\n",
    "print(\"Average mean of departure delay is : \", df.DepDelay.mean())\n",
    "\n",
    "# The average (mean) arrival delay\n",
    "print(\"Average mean of arrival delay is : \", df.ArrDelay.mean())"
   ]
  },
  {
   "cell_type": "markdown",
   "metadata": {},
   "source": [
    "**Which departure airport has the highest average departure delay? -> chicago international**"
   ]
  },
  {
   "cell_type": "code",
   "execution_count": 13,
   "metadata": {},
   "outputs": [
    {
     "name": "stdout",
     "output_type": "stream",
     "text": [
      "The departure airport that has the highest average departure delay is :  Chicago International\n"
     ]
    }
   ],
   "source": [
    "dep_airport_mean = df.groupby(\"OriginAirportName\")[\"DepDelay\"].mean()\n",
    "highest_average_departure_delay = dep_airport_mean.sort_values(ascending=False).head(1)\n",
    "\n",
    "highest_average_departure_delay = highest_average_departure_delay.to_string().split()\n",
    "highest_average_departure_delay = highest_average_departure_delay[1] +\" \"+ highest_average_departure_delay[3]\n",
    "\n",
    "print(\"The departure airport that has the highest average departure delay is : \", highest_average_departure_delay)\n"
   ]
  },
  {
   "cell_type": "markdown",
   "metadata": {},
   "source": [
    "**Do late departures tend to result in longer arrival delays than on-time departures?**"
   ]
  },
  {
   "cell_type": "code",
   "execution_count": 14,
   "metadata": {},
   "outputs": [],
   "source": [
    "# Status of Arrival Delays\n",
    "df[\"DepStatus\"] = [1 if x >0 else 0 for x in df[\"DepDelay\"]]\n",
    "\n",
    "# Status of Arrival Delays \n",
    "df[\"ArrStatus\"] = [1 if x >0 else 0 for x in df[\"ArrDelay\"]]\n"
   ]
  },
  {
   "cell_type": "code",
   "execution_count": 15,
   "metadata": {},
   "outputs": [
    {
     "name": "stdout",
     "output_type": "stream",
     "text": [
      "Yes Late departures tend to result in longer arrival delays than on-time departures\n"
     ]
    }
   ],
   "source": [
    "# Group by departure status and calculate average arrival delay\n",
    "result = df.groupby(\"DepStatus\")[\"ArrDelay\"].mean()\n",
    "if result[1] > result[0]:\n",
    "    print(\"Yes Late departures tend to result in longer arrival delays than on-time departures\")\n"
   ]
  },
  {
   "cell_type": "markdown",
   "metadata": {},
   "source": [
    "**Which route (from origin airport to destination airport) has the most late arrivals? -> You give four, I need one of highest in a string form not tabular form**\n",
    "Which route has the highest average arrival delay? -> Pittsburgh International Raleigh-Durham International 63.0"
   ]
  },
  {
   "cell_type": "code",
   "execution_count": 16,
   "metadata": {},
   "outputs": [
    {
     "name": "stdout",
     "output_type": "stream",
     "text": [
      "The route that has most late arrivals is : From Pittsburgh  to Raleigh-Durham International\n"
     ]
    }
   ],
   "source": [
    "most_late_arrival_delay = df.groupby([\"OriginAirportName\", \"DestAirportName\"])[\"ArrDelay\"].mean().sort_values(ascending=False).head(1)\n",
    "most_late_arrival_delay = most_late_arrival_delay.to_string().split()\n",
    "\n",
    "print(f\"The route that has most late arrivals is : From { most_late_arrival_delay[2]}  to { most_late_arrival_delay[4]} International\")"
   ]
  },
  {
   "cell_type": "markdown",
   "metadata": {},
   "source": [
    "**Which route has the highest average arrival delay? -> Pittsburgh International Raleigh-Durham International 63.0**"
   ]
  },
  {
   "cell_type": "code",
   "execution_count": 17,
   "metadata": {},
   "outputs": [
    {
     "name": "stdout",
     "output_type": "stream",
     "text": [
      "Route has the highest average arrival delay is :  Pittsburgh International Raleigh-Durham International 63.0\n"
     ]
    }
   ],
   "source": [
    "arr_del = most_late_arrival_delay\n",
    "print(\"Route has the highest average arrival delay is : \", \" \".join(arr_del[2:]))\n"
   ]
  },
  {
   "cell_type": "markdown",
   "metadata": {},
   "source": [
    "**what is aggregate function and how we use it**\n",
    "The function perform operations and return a value\n",
    "\n",
    "**what's the diff of float and int64**\n",
    "float --> Decimal values\n",
    "int64 --> Integer values\n",
    "\n",
    "**what is the datatype of categorical data**\n",
    "object\n",
    "\n",
    "**How to gather insights from data.**\n",
    "Read the data \n",
    "summaraixe the data\n",
    "Shape\n",
    "Rows and coumns \n",
    "Columns names\n",
    "Statistics of each column\n",
    "\n",
    "**what is the use of descirbe function and it's sub function**\n",
    "Describe function gives :\n",
    "max ---> Highest value, \n",
    "min ---> Lowest value, \n",
    "count ---> Number of values,  \n",
    "mean ---Average value, \n",
    "standard deviation ---> Varaince / How the data is spread away from the mean, \n",
    "mode ---> most occuring value in the data , \n",
    "25%, 75% ---> help in detecting the outliers"
   ]
  },
  {
   "cell_type": "markdown",
   "metadata": {},
   "source": [
    "**Convert Year, Month & Day into Date&Time formate using pd.Dateandtime**"
   ]
  },
  {
   "cell_type": "code",
   "execution_count": 18,
   "metadata": {},
   "outputs": [
    {
     "data": {
      "text/html": [
       "<div>\n",
       "<style scoped>\n",
       "    .dataframe tbody tr th:only-of-type {\n",
       "        vertical-align: middle;\n",
       "    }\n",
       "\n",
       "    .dataframe tbody tr th {\n",
       "        vertical-align: top;\n",
       "    }\n",
       "\n",
       "    .dataframe thead th {\n",
       "        text-align: right;\n",
       "    }\n",
       "</style>\n",
       "<table border=\"1\" class=\"dataframe\">\n",
       "  <thead>\n",
       "    <tr style=\"text-align: right;\">\n",
       "      <th></th>\n",
       "      <th>Year</th>\n",
       "      <th>Month</th>\n",
       "      <th>DayofMonth</th>\n",
       "      <th>DayOfWeek</th>\n",
       "      <th>Carrier</th>\n",
       "      <th>OriginAirportID</th>\n",
       "      <th>OriginAirportName</th>\n",
       "      <th>OriginCity</th>\n",
       "      <th>OriginState</th>\n",
       "      <th>DestAirportID</th>\n",
       "      <th>...</th>\n",
       "      <th>CRSDepTime</th>\n",
       "      <th>DepDelay</th>\n",
       "      <th>DepDel15</th>\n",
       "      <th>CRSArrTime</th>\n",
       "      <th>ArrDelay</th>\n",
       "      <th>ArrDel15</th>\n",
       "      <th>Cancelled</th>\n",
       "      <th>DepStatus</th>\n",
       "      <th>ArrStatus</th>\n",
       "      <th>Date</th>\n",
       "    </tr>\n",
       "  </thead>\n",
       "  <tbody>\n",
       "    <tr>\n",
       "      <th>0</th>\n",
       "      <td>2013</td>\n",
       "      <td>9</td>\n",
       "      <td>16</td>\n",
       "      <td>1</td>\n",
       "      <td>DL</td>\n",
       "      <td>15304</td>\n",
       "      <td>Tampa International</td>\n",
       "      <td>Tampa</td>\n",
       "      <td>FL</td>\n",
       "      <td>12478</td>\n",
       "      <td>...</td>\n",
       "      <td>1539</td>\n",
       "      <td>4</td>\n",
       "      <td>0.0</td>\n",
       "      <td>1824</td>\n",
       "      <td>13</td>\n",
       "      <td>0</td>\n",
       "      <td>0</td>\n",
       "      <td>1</td>\n",
       "      <td>1</td>\n",
       "      <td>2013-09-16</td>\n",
       "    </tr>\n",
       "    <tr>\n",
       "      <th>1</th>\n",
       "      <td>2013</td>\n",
       "      <td>9</td>\n",
       "      <td>23</td>\n",
       "      <td>1</td>\n",
       "      <td>WN</td>\n",
       "      <td>14122</td>\n",
       "      <td>Pittsburgh International</td>\n",
       "      <td>Pittsburgh</td>\n",
       "      <td>PA</td>\n",
       "      <td>13232</td>\n",
       "      <td>...</td>\n",
       "      <td>710</td>\n",
       "      <td>3</td>\n",
       "      <td>0.0</td>\n",
       "      <td>740</td>\n",
       "      <td>22</td>\n",
       "      <td>1</td>\n",
       "      <td>0</td>\n",
       "      <td>1</td>\n",
       "      <td>1</td>\n",
       "      <td>2013-09-23</td>\n",
       "    </tr>\n",
       "    <tr>\n",
       "      <th>2</th>\n",
       "      <td>2013</td>\n",
       "      <td>9</td>\n",
       "      <td>7</td>\n",
       "      <td>6</td>\n",
       "      <td>AS</td>\n",
       "      <td>14747</td>\n",
       "      <td>Seattle/Tacoma International</td>\n",
       "      <td>Seattle</td>\n",
       "      <td>WA</td>\n",
       "      <td>11278</td>\n",
       "      <td>...</td>\n",
       "      <td>810</td>\n",
       "      <td>-3</td>\n",
       "      <td>0.0</td>\n",
       "      <td>1614</td>\n",
       "      <td>-7</td>\n",
       "      <td>0</td>\n",
       "      <td>0</td>\n",
       "      <td>0</td>\n",
       "      <td>0</td>\n",
       "      <td>2013-09-07</td>\n",
       "    </tr>\n",
       "    <tr>\n",
       "      <th>3</th>\n",
       "      <td>2013</td>\n",
       "      <td>7</td>\n",
       "      <td>22</td>\n",
       "      <td>1</td>\n",
       "      <td>OO</td>\n",
       "      <td>13930</td>\n",
       "      <td>Chicago O'Hare International</td>\n",
       "      <td>Chicago</td>\n",
       "      <td>IL</td>\n",
       "      <td>11042</td>\n",
       "      <td>...</td>\n",
       "      <td>804</td>\n",
       "      <td>35</td>\n",
       "      <td>1.0</td>\n",
       "      <td>1027</td>\n",
       "      <td>33</td>\n",
       "      <td>1</td>\n",
       "      <td>0</td>\n",
       "      <td>1</td>\n",
       "      <td>1</td>\n",
       "      <td>2013-07-22</td>\n",
       "    </tr>\n",
       "    <tr>\n",
       "      <th>4</th>\n",
       "      <td>2013</td>\n",
       "      <td>5</td>\n",
       "      <td>16</td>\n",
       "      <td>4</td>\n",
       "      <td>DL</td>\n",
       "      <td>13931</td>\n",
       "      <td>Norfolk International</td>\n",
       "      <td>Norfolk</td>\n",
       "      <td>VA</td>\n",
       "      <td>10397</td>\n",
       "      <td>...</td>\n",
       "      <td>545</td>\n",
       "      <td>-1</td>\n",
       "      <td>0.0</td>\n",
       "      <td>728</td>\n",
       "      <td>-9</td>\n",
       "      <td>0</td>\n",
       "      <td>0</td>\n",
       "      <td>0</td>\n",
       "      <td>0</td>\n",
       "      <td>2013-05-16</td>\n",
       "    </tr>\n",
       "    <tr>\n",
       "      <th>...</th>\n",
       "      <td>...</td>\n",
       "      <td>...</td>\n",
       "      <td>...</td>\n",
       "      <td>...</td>\n",
       "      <td>...</td>\n",
       "      <td>...</td>\n",
       "      <td>...</td>\n",
       "      <td>...</td>\n",
       "      <td>...</td>\n",
       "      <td>...</td>\n",
       "      <td>...</td>\n",
       "      <td>...</td>\n",
       "      <td>...</td>\n",
       "      <td>...</td>\n",
       "      <td>...</td>\n",
       "      <td>...</td>\n",
       "      <td>...</td>\n",
       "      <td>...</td>\n",
       "      <td>...</td>\n",
       "      <td>...</td>\n",
       "      <td>...</td>\n",
       "    </tr>\n",
       "    <tr>\n",
       "      <th>271935</th>\n",
       "      <td>2013</td>\n",
       "      <td>9</td>\n",
       "      <td>20</td>\n",
       "      <td>5</td>\n",
       "      <td>VX</td>\n",
       "      <td>13204</td>\n",
       "      <td>Orlando International</td>\n",
       "      <td>Orlando</td>\n",
       "      <td>FL</td>\n",
       "      <td>12892</td>\n",
       "      <td>...</td>\n",
       "      <td>1730</td>\n",
       "      <td>1</td>\n",
       "      <td>0.0</td>\n",
       "      <td>1945</td>\n",
       "      <td>18</td>\n",
       "      <td>1</td>\n",
       "      <td>0</td>\n",
       "      <td>1</td>\n",
       "      <td>1</td>\n",
       "      <td>2013-09-20</td>\n",
       "    </tr>\n",
       "    <tr>\n",
       "      <th>271936</th>\n",
       "      <td>2013</td>\n",
       "      <td>4</td>\n",
       "      <td>19</td>\n",
       "      <td>5</td>\n",
       "      <td>FL</td>\n",
       "      <td>10397</td>\n",
       "      <td>Hartsfield-Jackson Atlanta International</td>\n",
       "      <td>Atlanta</td>\n",
       "      <td>GA</td>\n",
       "      <td>11697</td>\n",
       "      <td>...</td>\n",
       "      <td>1020</td>\n",
       "      <td>24</td>\n",
       "      <td>1.0</td>\n",
       "      <td>1218</td>\n",
       "      <td>61</td>\n",
       "      <td>1</td>\n",
       "      <td>0</td>\n",
       "      <td>1</td>\n",
       "      <td>1</td>\n",
       "      <td>2013-04-19</td>\n",
       "    </tr>\n",
       "    <tr>\n",
       "      <th>271937</th>\n",
       "      <td>2013</td>\n",
       "      <td>10</td>\n",
       "      <td>26</td>\n",
       "      <td>6</td>\n",
       "      <td>WN</td>\n",
       "      <td>12191</td>\n",
       "      <td>William P Hobby</td>\n",
       "      <td>Houston</td>\n",
       "      <td>TX</td>\n",
       "      <td>10821</td>\n",
       "      <td>...</td>\n",
       "      <td>1540</td>\n",
       "      <td>30</td>\n",
       "      <td>1.0</td>\n",
       "      <td>1935</td>\n",
       "      <td>15</td>\n",
       "      <td>1</td>\n",
       "      <td>0</td>\n",
       "      <td>1</td>\n",
       "      <td>1</td>\n",
       "      <td>2013-10-26</td>\n",
       "    </tr>\n",
       "    <tr>\n",
       "      <th>271938</th>\n",
       "      <td>2013</td>\n",
       "      <td>5</td>\n",
       "      <td>7</td>\n",
       "      <td>2</td>\n",
       "      <td>HA</td>\n",
       "      <td>13830</td>\n",
       "      <td>Kahului Airport</td>\n",
       "      <td>Kahului</td>\n",
       "      <td>HI</td>\n",
       "      <td>12173</td>\n",
       "      <td>...</td>\n",
       "      <td>609</td>\n",
       "      <td>-5</td>\n",
       "      <td>0.0</td>\n",
       "      <td>641</td>\n",
       "      <td>-6</td>\n",
       "      <td>0</td>\n",
       "      <td>0</td>\n",
       "      <td>0</td>\n",
       "      <td>0</td>\n",
       "      <td>2013-05-07</td>\n",
       "    </tr>\n",
       "    <tr>\n",
       "      <th>271939</th>\n",
       "      <td>2013</td>\n",
       "      <td>6</td>\n",
       "      <td>11</td>\n",
       "      <td>2</td>\n",
       "      <td>UA</td>\n",
       "      <td>14771</td>\n",
       "      <td>San Francisco International</td>\n",
       "      <td>San Francisco</td>\n",
       "      <td>CA</td>\n",
       "      <td>14100</td>\n",
       "      <td>...</td>\n",
       "      <td>1338</td>\n",
       "      <td>60</td>\n",
       "      <td>1.0</td>\n",
       "      <td>2200</td>\n",
       "      <td>40</td>\n",
       "      <td>1</td>\n",
       "      <td>0</td>\n",
       "      <td>1</td>\n",
       "      <td>1</td>\n",
       "      <td>2013-06-11</td>\n",
       "    </tr>\n",
       "  </tbody>\n",
       "</table>\n",
       "<p>266033 rows × 23 columns</p>\n",
       "</div>"
      ],
      "text/plain": [
       "        Year  Month  DayofMonth  DayOfWeek Carrier  OriginAirportID  \\\n",
       "0       2013      9          16          1      DL            15304   \n",
       "1       2013      9          23          1      WN            14122   \n",
       "2       2013      9           7          6      AS            14747   \n",
       "3       2013      7          22          1      OO            13930   \n",
       "4       2013      5          16          4      DL            13931   \n",
       "...      ...    ...         ...        ...     ...              ...   \n",
       "271935  2013      9          20          5      VX            13204   \n",
       "271936  2013      4          19          5      FL            10397   \n",
       "271937  2013     10          26          6      WN            12191   \n",
       "271938  2013      5           7          2      HA            13830   \n",
       "271939  2013      6          11          2      UA            14771   \n",
       "\n",
       "                               OriginAirportName     OriginCity OriginState  \\\n",
       "0                            Tampa International          Tampa          FL   \n",
       "1                       Pittsburgh International     Pittsburgh          PA   \n",
       "2                   Seattle/Tacoma International        Seattle          WA   \n",
       "3                   Chicago O'Hare International        Chicago          IL   \n",
       "4                          Norfolk International        Norfolk          VA   \n",
       "...                                          ...            ...         ...   \n",
       "271935                     Orlando International        Orlando          FL   \n",
       "271936  Hartsfield-Jackson Atlanta International        Atlanta          GA   \n",
       "271937                           William P Hobby        Houston          TX   \n",
       "271938                           Kahului Airport        Kahului          HI   \n",
       "271939               San Francisco International  San Francisco          CA   \n",
       "\n",
       "        DestAirportID  ... CRSDepTime DepDelay DepDel15  CRSArrTime  ArrDelay  \\\n",
       "0               12478  ...       1539        4      0.0        1824        13   \n",
       "1               13232  ...        710        3      0.0         740        22   \n",
       "2               11278  ...        810       -3      0.0        1614        -7   \n",
       "3               11042  ...        804       35      1.0        1027        33   \n",
       "4               10397  ...        545       -1      0.0         728        -9   \n",
       "...               ...  ...        ...      ...      ...         ...       ...   \n",
       "271935          12892  ...       1730        1      0.0        1945        18   \n",
       "271936          11697  ...       1020       24      1.0        1218        61   \n",
       "271937          10821  ...       1540       30      1.0        1935        15   \n",
       "271938          12173  ...        609       -5      0.0         641        -6   \n",
       "271939          14100  ...       1338       60      1.0        2200        40   \n",
       "\n",
       "        ArrDel15  Cancelled  DepStatus  ArrStatus       Date  \n",
       "0              0          0          1          1 2013-09-16  \n",
       "1              1          0          1          1 2013-09-23  \n",
       "2              0          0          0          0 2013-09-07  \n",
       "3              1          0          1          1 2013-07-22  \n",
       "4              0          0          0          0 2013-05-16  \n",
       "...          ...        ...        ...        ...        ...  \n",
       "271935         1          0          1          1 2013-09-20  \n",
       "271936         1          0          1          1 2013-04-19  \n",
       "271937         1          0          1          1 2013-10-26  \n",
       "271938         0          0          0          0 2013-05-07  \n",
       "271939         1          0          1          1 2013-06-11  \n",
       "\n",
       "[266033 rows x 23 columns]"
      ]
     },
     "execution_count": 18,
     "metadata": {},
     "output_type": "execute_result"
    }
   ],
   "source": [
    "import datetime\n",
    "# df=pd.DataFrame(df)\n",
    "\n",
    "\n",
    "df[\"Date\"] = pd.to_datetime(df[[\"Year\", \"Month\", \"DayofMonth\"]].rename(columns={\"Year\":\"year\", \"Month\":\"month\", \"DayofMonth\":\"day\"}))\n",
    "df"
   ]
  },
  {
   "cell_type": "markdown",
   "metadata": {},
   "source": [
    "**AggregateFunction implementation:**\n",
    "Best and worst days of the month by using DayOFMonth column\n",
    "how many flights are Cancelled, Delayed and arrival delay of them\n",
    "Which airport has most departure Delay and which has most arr delay"
   ]
  },
  {
   "cell_type": "code",
   "execution_count": 19,
   "metadata": {},
   "outputs": [
    {
     "name": "stdout",
     "output_type": "stream",
     "text": [
      "The worst day of the month is : \n",
      " ['DayofMonth', '10', '0.023283']\n",
      "\n",
      "The best day of the month is : \n",
      " ['DayofMonth', '4', '0.00611']\n",
      "\n",
      "The number of flights cancelled are : 2897\n",
      "\n",
      "The number of flights that are delayed are :  105864\n"
     ]
    }
   ],
   "source": [
    " # Best and worst days of the month by using DayOFMonth column \n",
    "a =df.groupby(\"DayofMonth\")[\"Cancelled\"].mean().sort_values(ascending=False)\n",
    "\n",
    "print(\"The worst day of the month is : \\n\",a.head(1).to_string().split())\n",
    "\n",
    "print(\"\\nThe best day of the month is : \\n\",a.tail(1).to_string().split())\n",
    "\n",
    "# Flights cancelled\n",
    "print(\"\\nThe number of flights cancelled are :\", df[\"Cancelled\"].value_counts()[1])\n",
    "\n",
    "# Flights Delayed\n",
    "delayed_flights = df[df[\"DepDelay\"]>0]\n",
    "print(\"\\nThe number of flights that are delayed are : \", len(delayed_flights))"
   ]
  },
  {
   "cell_type": "markdown",
   "metadata": {},
   "source": [
    "**Which airport has most departure Delay and which has most arr delay**"
   ]
  },
  {
   "cell_type": "code",
   "execution_count": 20,
   "metadata": {},
   "outputs": [
    {
     "name": "stdout",
     "output_type": "stream",
     "text": [
      "The Airport that has most departure delay is : Chicago International  ( 12.423505 )\n",
      "The Airport that has most arrival delay is : Chicago International  ( 7.932165 )\n"
     ]
    }
   ],
   "source": [
    "most_dep_delay = df.groupby(\"OriginAirportName\")[\"DepDelay\"].mean().sort_values(ascending=False).head(1).to_string().split()\n",
    "print(\"The Airport that has most departure delay is :\",most_dep_delay[1] ,most_dep_delay[3],\" (\", most_dep_delay[4] ,\")\" )\n",
    "\n",
    "most_arr_delay = df.groupby(\"OriginAirportName\")[\"ArrDelay\"].mean().sort_values(ascending=False).head(1).to_string().split()\n",
    "print(\"The Airport that has most arrival delay is :\",most_arr_delay[1] ,most_arr_delay[3],\" (\", most_arr_delay[4] ,\")\" )"
   ]
  },
  {
   "cell_type": "markdown",
   "metadata": {},
   "source": [
    "## Advanced agg funtion: \n",
    "Use a custom lambda function in .agg() Problem: For each airline (Carrier), calculate the following metrics related to departure delays:\n",
    "delayed_flights – Total number of flights delayed by more than 15 minutes.\n",
    "total_flights – Total number of flights operated by the airline.\n",
    "delay_rate – Proportion of delayed flights (i.e., delay rate as a decimal value)."
   ]
  },
  {
   "cell_type": "code",
   "execution_count": 21,
   "metadata": {},
   "outputs": [
    {
     "name": "stdout",
     "output_type": "stream",
     "text": [
      "Total number of flights delayed by more than 15 minutes are : 48234\n",
      "\n",
      "The total flights operated by airline are :\n",
      " Carrier\n",
      "9E     7765\n",
      "AA    28273\n",
      "AS     6719\n",
      "B6    11975\n",
      "DL    37818\n",
      "EV    15288\n",
      "F9     3467\n",
      "FL     9174\n",
      "HA     1865\n",
      "MQ    11156\n",
      "OO    15870\n",
      "UA    27911\n",
      "US    23284\n",
      "VX     3396\n",
      "WN    56963\n",
      "YV     5109\n",
      "dtype: int64\n"
     ]
    },
    {
     "data": {
      "text/plain": [
       "Text(0.5, 1.0, 'Delayed Flights')"
      ]
     },
     "execution_count": 21,
     "metadata": {},
     "output_type": "execute_result"
    },
    {
     "data": {
      "image/png": "[encoded data removed]",
      "text/plain": [
       "<Figure size 640x480 with 1 Axes>"
      ]
     },
     "metadata": {},
     "output_type": "display_data"
    }
   ],
   "source": [
    "# Total number of flights delayed by more than 15 minutes\n",
    "delay_flight = df[\"DepDel15\"].value_counts()\n",
    "print(\"Total number of flights delayed by more than 15 minutes are :\", delay_flight[1])\n",
    "\n",
    "# Total number of flights operated by the airline.\n",
    "operated_flights = df.groupby(\"Carrier\").size()\n",
    "print(\"\\nThe total flights operated by airline are :\\n\", operated_flights)\n",
    "\n",
    "plt.hist(df[\"DepDelay\"])\n",
    "plt.title(\"Delayed Flights\")"
   ]
  },
  {
   "cell_type": "markdown",
   "metadata": {},
   "source": [
    "## 3. Time Manipulation\n",
    "*Very very useful for real time data*\n",
    "**Statements to solve**\n",
    "- Create a TimeStampp column\n",
    "- Daily Cancellation date \n",
    "- Compare Delays on Weekend vs Normal day\n",
    "- Give a function in which you tell me about a specific Flight details that include: \n",
    "***Plane Origin Airport, Origin City, Origin State, Dest Airport's Name of that flight, Dest City, State, Wheter a delay occur in Dep & Arr or not, number of mintues each delay occur.  Time & Date of flight***\n"
   ]
  },
  {
   "cell_type": "code",
   "execution_count": 22,
   "metadata": {},
   "outputs": [
    {
     "data": {
      "text/plain": [
       "145      2013-09-12\n",
       "171      2013-04-18\n",
       "359      2013-05-22\n",
       "429      2013-07-03\n",
       "545      2013-04-13\n",
       "            ...    \n",
       "271410   2013-08-05\n",
       "271607   2013-06-18\n",
       "271634   2013-05-08\n",
       "271671   2013-10-08\n",
       "271885   2013-05-15\n",
       "Name: Date, Length: 2897, dtype: datetime64[ns]"
      ]
     },
     "execution_count": 22,
     "metadata": {},
     "output_type": "execute_result"
    }
   ],
   "source": [
    "# Daily Cancellation date\n",
    "cancelled_flights_dates = df.loc[df[\"Cancelled\"] == 1, \"Date\"] \n",
    "cancelled_flights_dates"
   ]
  },
  {
   "cell_type": "code",
   "execution_count": 23,
   "metadata": {},
   "outputs": [
    {
     "name": "stdout",
     "output_type": "stream",
     "text": [
      "The flights delays on weekend is : 49.21\n",
      "The flights delays on normal days : 40.49\n"
     ]
    }
   ],
   "source": [
    "# Compare Delays on Weekend vs Normal day\n",
    "# Delays on Weekend \n",
    "df[\"Weekends\"] = df[\"DayOfWeek\"].isin([6,7])\n",
    "delay_weekend = df[(df[\"Weekends\"]) & (df[\"DepDelay\"])>0 ]\n",
    "weekend_percentage = len(delay_weekend) / len(df[df[\"Weekends\"]]) * 100\n",
    "print(f\"The flights delays on weekend is : {weekend_percentage:.2f}\")\n",
    "\n",
    "# Delays on Normal days\n",
    "df[\"Normaldays\"] = df[\"DayOfWeek\"].isin([1,2,3,4,5])\n",
    "delay_normaldays = df[(df[\"Normaldays\"]) &(df[\"DepDelay\"]>0) ]\n",
    "normaldays_percentage = len(delay_normaldays) / len(df[df[\"Normaldays\"]]) * 100\n",
    "print(f\"The flights delays on normal days : {normaldays_percentage:.2f}\")"
   ]
  },
  {
   "cell_type": "code",
   "execution_count": 24,
   "metadata": {},
   "outputs": [
    {
     "name": "stdout",
     "output_type": "stream",
     "text": [
      "Plane Origin Airport :  Tampa International\n",
      "\n",
      "Origin City :  Tampa\n",
      "\n",
      "Origin State :  FL\n",
      "\n",
      "Destination Airport's Name of the flight :  John F. Kennedy International\n",
      "\n",
      "Destination City :  New York\n",
      "\n",
      "The departure delay occur in the flight . The flight departure delay is :  4 minutes\n",
      "\n",
      "The arrival delay occur in the flight .The flight arrival delay is :  13 minutes\n",
      "\n",
      "Date :  2013-09-16\n",
      "\n",
      "The flight departure time is :  15:39\n",
      "\n",
      "The flight arrival time is :  18:24\n"
     ]
    }
   ],
   "source": [
    "def  info_of_flight(Origin_Airport_ID):\n",
    "    if Origin_Airport_ID in df[\"OriginAirportID\"].values:\n",
    "        flight = df[df[\"OriginAirportID\"] == Origin_Airport_ID]\n",
    "        # print(flight.iloc[0])\n",
    "        print(\"Plane Origin Airport : \", flight.iloc[0,6])\n",
    "        print(\"\\nOrigin City : \", flight.iloc[0,7])\n",
    "        print(\"\\nOrigin State : \", flight.iloc[0,8])\n",
    "        print(\"\\nDestination Airport's Name of the flight : \", flight.iloc[0,10])\n",
    "        print(\"\\nDestination City : \", flight.iloc[0,11])\n",
    "        \n",
    "        # Departure Delay\n",
    "        if flight.iloc[0,14] > 0:\n",
    "            print(\"\\nThe departure delay occur in the flight . The flight departure delay is : \", flight.iloc[0,14], \"minutes\")\n",
    "        else:\n",
    "            prit(\"\\nNo departure delay occur .\")\n",
    "\n",
    "        # Departure Delay\n",
    "        if flight.iloc[0,17] > 0:\n",
    "            print(\"\\nThe arrival delay occur in the flight .The flight arrival delay is : \", flight.iloc[0,17], \"minutes\")\n",
    "        else:\n",
    "            print(\"\\nNo arrival delay occur .\")\n",
    "\n",
    "        print(\"\\nDate : \", flight.iloc[0,22].date())\n",
    "        \n",
    "        # Time\n",
    "        def format_time(t):\n",
    "            t = str(int(t)).zfill(4)\n",
    "            hr = t[0:2]\n",
    "            min = t[2:4]\n",
    "            return hr + \":\"+ min\n",
    "    \n",
    "        print(\"\\nThe flight departure time is : \",format_time(flight.iloc[0,13]))\n",
    "        \n",
    "        print(\"\\nThe flight arrival time is : \",format_time(flight.iloc[0,16]))\n",
    "\n",
    "info_of_flight(15304)"
   ]
  }
 ],
 "metadata": {
  "kernelspec": {
   "display_name": "Python 3 (ipykernel)",
   "language": "python",
   "name": "python3"
  },
  "language_info": {
   "codemirror_mode": {
    "name": "ipython",
    "version": 3
   },
   "file_extension": ".py",
   "mimetype": "text/x-python",
   "name": "python",
   "nbconvert_exporter": "python",
   "pygments_lexer": "ipython3",
   "version": "3.12.4"
  }
 },
 "nbformat": 4,
 "nbformat_minor": 4
}
